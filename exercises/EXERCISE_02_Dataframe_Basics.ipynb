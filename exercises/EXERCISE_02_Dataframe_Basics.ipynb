{
 "cells": [
  {
   "cell_type": "code",
   "execution_count": 1,
   "id": "23ce8001",
   "metadata": {},
   "outputs": [],
   "source": [
    "import pandas as pd"
   ]
  },
  {
   "cell_type": "markdown",
   "id": "577b8d54",
   "metadata": {},
   "source": [
    "# DataFrame Basics Exercise"
   ]
  },
  {
   "cell_type": "markdown",
   "id": "96471a54",
   "metadata": {},
   "source": [
    "## Part 1\n",
    "* Use pandas to read the `bestsellers` dataset into a DataFrame \n",
    "* Once you've done that, use Pandas to figure out how many rows and columns the DF has\n",
    "* Inspect the first 5 rows\n",
    "* Inspect the first 19 rows\n",
    "* Inspect the last 5 rows\n",
    "* Inspect the last 2 rows \n",
    "* Which columns (if any) are missing values?\n",
    "* What datatype did Pandas assign to \"User Rating\"?\n",
    "* How many integer columns are in the DataFrame?"
   ]
  },
  {
   "cell_type": "code",
   "execution_count": 4,
   "id": "74669814",
   "metadata": {},
   "outputs": [
    {
     "data": {
      "text/plain": [
       "RangeIndex(start=0, stop=550, step=1)"
      ]
     },
     "execution_count": 4,
     "metadata": {},
     "output_type": "execute_result"
    }
   ],
   "source": [
    "best_sellers = pd.read_csv('data/bestsellers.csv')\n",
    "best_sellers.index # 550 rows"
   ]
  },
  {
   "cell_type": "code",
   "execution_count": 6,
   "id": "82c11113",
   "metadata": {},
   "outputs": [
    {
     "data": {
      "text/html": [
       "<div>\n",
       "<style scoped>\n",
       "    .dataframe tbody tr th:only-of-type {\n",
       "        vertical-align: middle;\n",
       "    }\n",
       "\n",
       "    .dataframe tbody tr th {\n",
       "        vertical-align: top;\n",
       "    }\n",
       "\n",
       "    .dataframe thead th {\n",
       "        text-align: right;\n",
       "    }\n",
       "</style>\n",
       "<table border=\"1\" class=\"dataframe\">\n",
       "  <thead>\n",
       "    <tr style=\"text-align: right;\">\n",
       "      <th></th>\n",
       "      <th>Name</th>\n",
       "      <th>Author</th>\n",
       "      <th>User Rating</th>\n",
       "      <th>Reviews</th>\n",
       "      <th>Price</th>\n",
       "      <th>Year</th>\n",
       "      <th>Genre</th>\n",
       "    </tr>\n",
       "  </thead>\n",
       "  <tbody>\n",
       "    <tr>\n",
       "      <th>548</th>\n",
       "      <td>You Are a Badass: How to Stop Doubting Your Gr...</td>\n",
       "      <td>Jen Sincero</td>\n",
       "      <td>4.7</td>\n",
       "      <td>14331</td>\n",
       "      <td>8</td>\n",
       "      <td>2018</td>\n",
       "      <td>Non Fiction</td>\n",
       "    </tr>\n",
       "    <tr>\n",
       "      <th>549</th>\n",
       "      <td>You Are a Badass: How to Stop Doubting Your Gr...</td>\n",
       "      <td>Jen Sincero</td>\n",
       "      <td>4.7</td>\n",
       "      <td>14331</td>\n",
       "      <td>8</td>\n",
       "      <td>2019</td>\n",
       "      <td>Non Fiction</td>\n",
       "    </tr>\n",
       "  </tbody>\n",
       "</table>\n",
       "</div>"
      ],
      "text/plain": [
       "                                                  Name       Author  \\\n",
       "548  You Are a Badass: How to Stop Doubting Your Gr...  Jen Sincero   \n",
       "549  You Are a Badass: How to Stop Doubting Your Gr...  Jen Sincero   \n",
       "\n",
       "     User Rating  Reviews  Price  Year        Genre  \n",
       "548          4.7    14331      8  2018  Non Fiction  \n",
       "549          4.7    14331      8  2019  Non Fiction  "
      ]
     },
     "execution_count": 6,
     "metadata": {},
     "output_type": "execute_result"
    }
   ],
   "source": [
    "best_sellers.head(5)\n",
    "best_sellers.head(19)\n",
    "best_sellers.tail(5)\n",
    "best_sellers.tail(2)"
   ]
  },
  {
   "cell_type": "code",
   "execution_count": 7,
   "id": "d7a8e357",
   "metadata": {},
   "outputs": [
    {
     "name": "stdout",
     "output_type": "stream",
     "text": [
      "<class 'pandas.core.frame.DataFrame'>\n",
      "RangeIndex: 550 entries, 0 to 549\n",
      "Data columns (total 7 columns):\n",
      " #   Column       Non-Null Count  Dtype  \n",
      "---  ------       --------------  -----  \n",
      " 0   Name         550 non-null    object \n",
      " 1   Author       550 non-null    object \n",
      " 2   User Rating  550 non-null    float64\n",
      " 3   Reviews      550 non-null    int64  \n",
      " 4   Price        550 non-null    int64  \n",
      " 5   Year         550 non-null    int64  \n",
      " 6   Genre        550 non-null    object \n",
      "dtypes: float64(1), int64(3), object(3)\n",
      "memory usage: 30.2+ KB\n"
     ]
    }
   ],
   "source": [
    "best_sellers.info() # no rows are null"
   ]
  },
  {
   "cell_type": "markdown",
   "id": "5677e632",
   "metadata": {},
   "source": [
    "### user rating is a float\n",
    "### there are three integer columns"
   ]
  },
  {
   "cell_type": "markdown",
   "id": "d7752689",
   "metadata": {},
   "source": [
    "## Part 2\n",
    "\n",
    "* The `mount_everest_deaths` dataset has its own index column provided in the dataset.  When importing it, use the existing index column.\n",
    "* Which columns have zero null values?\n",
    "* Which column has the most null values?\n"
   ]
  },
  {
   "cell_type": "code",
   "execution_count": 11,
   "id": "b6103562",
   "metadata": {},
   "outputs": [
    {
     "name": "stdout",
     "output_type": "stream",
     "text": [
      "<class 'pandas.core.frame.DataFrame'>\n",
      "Index: 310 entries, 1 to 310\n",
      "Data columns (total 7 columns):\n",
      " #   Column          Non-Null Count  Dtype  \n",
      "---  ------          --------------  -----  \n",
      " 0   Name            310 non-null    object \n",
      " 1   Date            310 non-null    object \n",
      " 2   Age             160 non-null    float64\n",
      " 3   Expedition      271 non-null    object \n",
      " 4   Nationality     309 non-null    object \n",
      " 5   Cause of death  296 non-null    object \n",
      " 6   Location        291 non-null    object \n",
      "dtypes: float64(1), object(6)\n",
      "memory usage: 19.4+ KB\n"
     ]
    }
   ],
   "source": [
    "mnt_everest = pd.read_csv('data/mount_everest_deaths.csv', index_col=0)\n",
    "mnt_everest.info()"
   ]
  },
  {
   "cell_type": "code",
   "execution_count": null,
   "id": "b3e921be",
   "metadata": {},
   "outputs": [],
   "source": [
    "# Name and date have zero null values\n",
    "# Age has the most null values"
   ]
  },
  {
   "cell_type": "markdown",
   "id": "21d726d2",
   "metadata": {},
   "source": [
    "## Part 3\n",
    "* Import the `movie_titles.tsv` dataset\n",
    "* You'll notice that it is not comma-separated! You'll need to tell `read_csv` what the separator actually is.\n",
    "* The dataset does not come with its own column headings, so you'll need to provide those as well.  The columns are, in order, `id`, `title`, `year`, `imdb_rating`, `imdb_id`, and `genres`\n",
    "* Once you have successfully read the dataset into a DataFrame, inspect the last 7 rows!"
   ]
  },
  {
   "cell_type": "code",
   "execution_count": 16,
   "id": "e71a07c2",
   "metadata": {},
   "outputs": [
    {
     "data": {
      "text/html": [
       "<div>\n",
       "<style scoped>\n",
       "    .dataframe tbody tr th:only-of-type {\n",
       "        vertical-align: middle;\n",
       "    }\n",
       "\n",
       "    .dataframe tbody tr th {\n",
       "        vertical-align: top;\n",
       "    }\n",
       "\n",
       "    .dataframe thead th {\n",
       "        text-align: right;\n",
       "    }\n",
       "</style>\n",
       "<table border=\"1\" class=\"dataframe\">\n",
       "  <thead>\n",
       "    <tr style=\"text-align: right;\">\n",
       "      <th></th>\n",
       "      <th>id</th>\n",
       "      <th>title</th>\n",
       "      <th>year</th>\n",
       "      <th>imdb_rating</th>\n",
       "      <th>imdb_id</th>\n",
       "      <th>genres</th>\n",
       "    </tr>\n",
       "  </thead>\n",
       "  <tbody>\n",
       "    <tr>\n",
       "      <th>610</th>\n",
       "      <td>m610</td>\n",
       "      <td>the wizard of oz</td>\n",
       "      <td>1939</td>\n",
       "      <td>8.3</td>\n",
       "      <td>104873.0</td>\n",
       "      <td>['adventure' 'family' 'fantasy' 'musical']</td>\n",
       "    </tr>\n",
       "    <tr>\n",
       "      <th>611</th>\n",
       "      <td>m611</td>\n",
       "      <td>the world is not enough</td>\n",
       "      <td>1999</td>\n",
       "      <td>6.3</td>\n",
       "      <td>60047.0</td>\n",
       "      <td>['action' 'adventure' 'thriller']</td>\n",
       "    </tr>\n",
       "    <tr>\n",
       "      <th>612</th>\n",
       "      <td>m612</td>\n",
       "      <td>watchmen</td>\n",
       "      <td>2009</td>\n",
       "      <td>7.8</td>\n",
       "      <td>135229.0</td>\n",
       "      <td>['action' 'crime' 'fantasy' 'mystery' 'sci-fi'...</td>\n",
       "    </tr>\n",
       "    <tr>\n",
       "      <th>613</th>\n",
       "      <td>m613</td>\n",
       "      <td>xxx</td>\n",
       "      <td>2002</td>\n",
       "      <td>5.6</td>\n",
       "      <td>53505.0</td>\n",
       "      <td>['action' 'adventure' 'crime']</td>\n",
       "    </tr>\n",
       "    <tr>\n",
       "      <th>614</th>\n",
       "      <td>m614</td>\n",
       "      <td>x-men</td>\n",
       "      <td>2000</td>\n",
       "      <td>7.4</td>\n",
       "      <td>122149.0</td>\n",
       "      <td>['action' 'sci-fi']</td>\n",
       "    </tr>\n",
       "    <tr>\n",
       "      <th>615</th>\n",
       "      <td>m615</td>\n",
       "      <td>young frankenstein</td>\n",
       "      <td>1974</td>\n",
       "      <td>8.0</td>\n",
       "      <td>57618.0</td>\n",
       "      <td>['comedy' 'sci-fi']</td>\n",
       "    </tr>\n",
       "    <tr>\n",
       "      <th>616</th>\n",
       "      <td>m616</td>\n",
       "      <td>zulu dawn</td>\n",
       "      <td>1979</td>\n",
       "      <td>6.4</td>\n",
       "      <td>1911.0</td>\n",
       "      <td>['action' 'adventure' 'drama' 'history' 'war']</td>\n",
       "    </tr>\n",
       "  </tbody>\n",
       "</table>\n",
       "</div>"
      ],
      "text/plain": [
       "       id                    title  year  imdb_rating   imdb_id  \\\n",
       "610  m610         the wizard of oz  1939          8.3  104873.0   \n",
       "611  m611  the world is not enough  1999          6.3   60047.0   \n",
       "612  m612                 watchmen  2009          7.8  135229.0   \n",
       "613  m613                      xxx  2002          5.6   53505.0   \n",
       "614  m614                    x-men  2000          7.4  122149.0   \n",
       "615  m615       young frankenstein  1974          8.0   57618.0   \n",
       "616  m616                zulu dawn  1979          6.4    1911.0   \n",
       "\n",
       "                                                genres  \n",
       "610         ['adventure' 'family' 'fantasy' 'musical']  \n",
       "611                  ['action' 'adventure' 'thriller']  \n",
       "612  ['action' 'crime' 'fantasy' 'mystery' 'sci-fi'...  \n",
       "613                     ['action' 'adventure' 'crime']  \n",
       "614                                ['action' 'sci-fi']  \n",
       "615                                ['comedy' 'sci-fi']  \n",
       "616     ['action' 'adventure' 'drama' 'history' 'war']  "
      ]
     },
     "execution_count": 16,
     "metadata": {},
     "output_type": "execute_result"
    }
   ],
   "source": [
    "col_headers  = [\"id\", \"title\", \"year\", \"imdb_rating\", \"imdb_id\", \"genres\"] \n",
    "movie_titles = pd.read_csv('data/movie_titles.tsv', delimiter='\\t', names=col_headers)\n",
    "movie_titles.tail(7)"
   ]
  },
  {
   "cell_type": "code",
   "execution_count": null,
   "id": "415c82e4",
   "metadata": {},
   "outputs": [],
   "source": []
  }
 ],
 "metadata": {
  "kernelspec": {
   "display_name": "Python 3 (ipykernel)",
   "language": "python",
   "name": "python3"
  },
  "language_info": {
   "codemirror_mode": {
    "name": "ipython",
    "version": 3
   },
   "file_extension": ".py",
   "mimetype": "text/x-python",
   "name": "python",
   "nbconvert_exporter": "python",
   "pygments_lexer": "ipython3",
   "version": "3.10.5"
  }
 },
 "nbformat": 4,
 "nbformat_minor": 5
}
